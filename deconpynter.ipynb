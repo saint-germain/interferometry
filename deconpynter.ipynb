{
 "cells": [
  {
   "cell_type": "code",
   "execution_count": 1,
   "metadata": {
    "collapsed": true
   },
   "outputs": [],
   "source": [
    "import matplotlib.image as mpimg\n",
    "import numpy as np\n",
    "import matplotlib.cm as cm\n"
   ]
  },
  {
   "cell_type": "code",
   "execution_count": 2,
   "metadata": {
    "collapsed": false
   },
   "outputs": [],
   "source": [
    "filenamein=\"Dog.png\"\n",
    "BALL_RADIUS = 20.0        # FOR ballS IN PIXELS\n",
    "pix_to_m=45.0\n",
    "freq=3e10               # Frequency\n",
    "wavel=3e8/freq          # Wavelength\n",
    "dec_ang=90.0            # Declination angle of 'source'\n",
    "sin_dec=np.sin((dec_ang * np.pi)/ 180.) #sin of dec\n",
    "col_map=cm.gist_gray"
   ]
  },
  {
   "cell_type": "code",
   "execution_count": 52,
   "metadata": {
    "collapsed": true
   },
   "outputs": [],
   "source": [
    "WIDTH, HEIGHT=(2000,2000)"
   ]
  },
  {
   "cell_type": "code",
   "execution_count": 53,
   "metadata": {
    "collapsed": true
   },
   "outputs": [],
   "source": [
    "WIDTH_ANT= WIDTH/2.5\n",
    "HEIGHT_ANT= WIDTH/2.5\n",
    "Y_UPOUT=BALL_RADIUS*1.5                    # TOP BOUNDARY\n",
    "Y_DOWNOUT=HEIGHT_ANT-(BALL_RADIUS*1.5)"
   ]
  },
  {
   "cell_type": "code",
   "execution_count": 54,
   "metadata": {
    "collapsed": false
   },
   "outputs": [],
   "source": [
    "in_img=mpimg.imread(filenamein) #gif_image\n",
    "in_img=in_img[:,:,1] #select a single colour plane from a RBG image\n",
    "img_siz=in_img.shape #input image dimensions"
   ]
  },
  {
   "cell_type": "code",
   "execution_count": 55,
   "metadata": {
    "collapsed": false
   },
   "outputs": [],
   "source": [
    "pix_to_uv=150.0*(2.68*(WIDTH_ANT/600.0))\n",
    "umax=1.5*(((HEIGHT_ANT-(2.0*1.5*BALL_RADIUS))*pix_to_m*10.0)/wavel)#maximum for earth rot at HA 60\n",
    "vmax=1.5*((1.0*(WIDTH_ANT-(2.0*1.5*BALL_RADIUS))*pix_to_m*10.0*sin_dec)/wavel)"
   ]
  },
  {
   "cell_type": "code",
   "execution_count": 56,
   "metadata": {
    "collapsed": false
   },
   "outputs": [],
   "source": [
    "synthesis_type=0\n",
    "arrType = 'AlmaL'\n",
    "almal_x=[  5.37451571e-01,   5.85665088e-01,   5.10331468e-01,   4.71301478e-01,\n",
    "   5.79351413e-01,   5.85378103e-01,   4.60539532e-01,   6.41196728e-01,\n",
    "   4.89883771e-01,   5.42545559e-01,   6.35241785e-01,   4.30477830e-01,\n",
    "   6.49591046e-01,   5.21236906e-01,   4.67498924e-01,   5.42473813e-01,\n",
    "   5.80212369e-01,   5.10546707e-01,   7.17247812e-01,   4.68869278e-01,\n",
    "   3.33405080e-01,   7.67097144e-01,   6.71990243e-01,   3.54763955e-01,\n",
    "   8.33003300e-01,   8.17692639e-01,   2.09212226e-01,   8.00107619e-01,\n",
    "   8.20261157e-01,   8.25599082e-01,   7.99655618e-01,   8.36131439e-01,\n",
    "   9.00000000e-01,   8.05997991e-01,   9.29939733e-01,   4.33053523e-01,\n",
    "   4.14542976e-01,   2.38699957e-01,   7.21337351e-01,   8.64930406e-01,\n",
    "   9.34926101e-01,   8.50631367e-01,   8.47610850e-02,   7.88556464e-01,\n",
    "   9.05294877e-01,   1.04749605e-01,   8.30750466e-01,   1.00000000e+00,\n",
    "   7.17463000e-05,   9.46039604e-01]\n",
    "almal_y=[  3.46786220e-01,   4.03165015e-01,   3.96935661e-01,   4.30033034e-01,\n",
    "   3.05257197e-01,   4.69170993e-01,   3.39361334e-01,   3.60251691e-01,\n",
    "   4.63193330e-01,   2.84681454e-01,   4.60613497e-01,   3.78121756e-01,\n",
    "   3.09284254e-01,   5.12587699e-01,   3.12493314e-01,   3.49114362e-01,\n",
    "   4.05493157e-01,   4.02158251e-01,   5.22214881e-01,   6.07028473e-01,\n",
    "   5.14475381e-01,   5.49548529e-01,   2.14661004e-01,   5.16759478e-01,\n",
    "   2.61249017e-01,   5.25046406e-01,   5.02834670e-01,   6.29228000e-05,\n",
    "   7.18754129e-01,   5.51838918e-01,   2.49690105e-01,   5.85955639e-01,\n",
    "   2.60154161e-01,   5.47698600e-01,   9.01720938e-01,   6.35840805e-01,\n",
    "   6.43920088e-01,   5.07365109e-01,   1.13474910e-01,   6.04970898e-01,\n",
    "   4.29322010e-02,   6.24338524e-01,   5.01129464e-01,   4.94069530e-02,\n",
    "   7.89592575e-01,   4.61997798e-01,   6.77401290e-01,   2.09721570e-02,\n",
    "   4.20342929e-01,   1.00000000e+00]\n",
    "rescaleFact=(Y_DOWNOUT-Y_UPOUT)*0.95"
   ]
  },
  {
   "cell_type": "code",
   "execution_count": 57,
   "metadata": {
    "collapsed": true
   },
   "outputs": [],
   "source": [
    "BALLS = 50 #always start with 50 antenna"
   ]
  },
  {
   "cell_type": "code",
   "execution_count": 58,
   "metadata": {
    "collapsed": false
   },
   "outputs": [],
   "source": [
    "if arrType == 'AlmaL':\n",
    "    orig_x=almal_x[:BALLS]\n",
    "    orig_y=almal_y[:BALLS]\n",
    "    zoom_factor=1.0        \n",
    "    sythesis_type=0\n",
    "orig_x=(np.array(orig_x)*rescaleFact)+Y_UPOUT\n",
    "orig_y=(np.array(orig_y)*rescaleFact)+Y_UPOUT"
   ]
  },
  {
   "cell_type": "code",
   "execution_count": 59,
   "metadata": {
    "collapsed": true
   },
   "outputs": [],
   "source": [
    "class Ball:\n",
    "    #BALL_RADIUS = 15.0        # FOR ballS IN PIXELS\n",
    "    def __init__(self,x,y):\n",
    "         self.position = TwoD(x,y)"
   ]
  },
  {
   "cell_type": "code",
   "execution_count": 60,
   "metadata": {
    "collapsed": true
   },
   "outputs": [],
   "source": [
    "class TwoD:\n",
    "    def __init__(self, x, y):\n",
    "        self.x = float(x)\n",
    "        self.y = float(y)"
   ]
  },
  {
   "cell_type": "code",
   "execution_count": 61,
   "metadata": {
    "collapsed": false
   },
   "outputs": [],
   "source": [
    "balls = tuple(Ball(orig_x[ball], orig_y[ball]) for ball in xrange(BALLS))"
   ]
  },
  {
   "cell_type": "code",
   "execution_count": 62,
   "metadata": {
    "collapsed": false
   },
   "outputs": [],
   "source": [
    "x_pos = tuple(ball.position.x for ball in balls)\n",
    "y_pos = tuple(ball.position.y for ball in balls)"
   ]
  },
  {
   "cell_type": "code",
   "execution_count": 63,
   "metadata": {
    "collapsed": false
   },
   "outputs": [],
   "source": [
    "x=np.array(x_pos)\n",
    "y=np.array(y_pos)\n",
    "\n",
    "x=x*zoom_factor*pix_to_m\n",
    "y=y*zoom_factor*pix_to_m\n",
    "\n",
    "N=len(x)*(len(x)-1)                     #number of baselines\n",
    "\n",
    "lx=np.zeros((len(x),len(x)))\n",
    "ly=np.zeros((len(y),len(x)))\n",
    "\n",
    "for i in range(len(x)):\n",
    "    for j in range(len(y)):\n",
    "        lx[i,j]=(x[i]-x[j])\n",
    "        ly[i,j]=(y[i]-y[j])"
   ]
  },
  {
   "cell_type": "code",
   "execution_count": 64,
   "metadata": {
    "collapsed": false
   },
   "outputs": [
    {
     "data": {
      "text/plain": [
       "<matplotlib.collections.PathCollection at 0x7f486030c690>"
      ]
     },
     "execution_count": 64,
     "metadata": {},
     "output_type": "execute_result"
    },
    {
     "data": {
      "image/png": "[encoded data removed]",
      "text/plain": [
       "<matplotlib.figure.Figure at 0x7f4867722210>"
      ]
     },
     "metadata": {},
     "output_type": "display_data"
    }
   ],
   "source": [
    "import matplotlib.pyplot as plt\n",
    "%matplotlib inline\n",
    "plt.scatter(x_pos,y_pos)"
   ]
  },
  {
   "cell_type": "code",
   "execution_count": 65,
   "metadata": {
    "collapsed": true
   },
   "outputs": [],
   "source": [
    "u=(np.ceil(ly/wavel))                    # u values\n",
    "typeused = \"Snapshot        \"            #long white space to overlay correctly\n",
    "v=(np.ceil((-1.*lx*sin_dec)/wavel))      # v values\n",
    "\n",
    "re_u=np.reshape(u,(len(x)**2),order='F') #reshape u into linear form\n",
    "re_v=np.reshape(v,(len(y)**2),order='F') #reshape v into linear form\n",
    "\n",
    "full_re_u=re_u\n",
    "full_re_v=re_v\n",
    "\n",
    "#--- rescale to image scale\n",
    "full_re_uimg=(re_u/umax)*pix_to_uv\n",
    "full_re_vimg=(re_v/vmax)*pix_to_uv\n",
    "\n",
    "obs_uv_matrix=np.zeros(img_siz)          #create an empty matrix same size as in image for multiplying with fft of true sky image\n",
    "\n",
    "for k in range(len(full_re_u)): \n",
    "    int_u=int(full_re_uimg[k])\n",
    "    int_v=int(full_re_vimg[k])\n",
    "    obs_uv_matrix[int_u,int_v]=1.0"
   ]
  },
  {
   "cell_type": "code",
   "execution_count": 66,
   "metadata": {
    "collapsed": false
   },
   "outputs": [
    {
     "data": {
      "image/png": "[encoded data removed]",
      "text/plain": [
       "<matplotlib.figure.Figure at 0x7f485fad5350>"
      ]
     },
     "metadata": {},
     "output_type": "display_data"
    }
   ],
   "source": [
    "obs_uv_matrix[0,0]=0.0                   #fixes uv 0,0 to 0\n",
    "fig_uv = plt.figure(8,figsize=[(2.68*((HEIGHT_ANT*(2./3.))/570)),(2.68*((WIDTH_ANT*(2./3.))/570))]) #Horrific aspect ratio hack... sorry!\n",
    "fig_uv.clear()\n",
    "ax_uv = fig_uv.add_subplot(111)\n",
    "if synthesis_type == 0 or synthesis_type == 1:\n",
    "    ax_uv.plot(full_re_u/1000.0,full_re_v/1000.0,'.',color='orange')#plot uv coverage\n",
    "    #ax_uv.plot(0,0,'w.',mec='w')\n",
    "ax_uv.tick_params(axis='both',labelsize='4')\n",
    "ax_uv.set_xlabel('u [k$\\lambda$]',size='5')\n",
    "ax_uv.set_ylabel('v [k$\\lambda$]',size='5')\n",
    "fig_uv.savefig('uvplot.png', dpi=150, facecolor='w', edgecolor='w',\n",
    "    orientation='portrait', papertype=None, format=None,\n",
    "    transparent=False,bbox_inches='tight',pad_inches=0.05)"
   ]
  },
  {
   "cell_type": "code",
   "execution_count": 67,
   "metadata": {
    "collapsed": false
   },
   "outputs": [
    {
     "data": {
      "image/png": "[encoded data removed]",
      "text/plain": [
       "<matplotlib.figure.Figure at 0x7f485fab7810>"
      ]
     },
     "metadata": {},
     "output_type": "display_data"
    }
   ],
   "source": [
    "#---3 Do the maths ---#\n",
    "#--Section 7 chapter 2 Synthesis imaging--#\n",
    "fft_img=np.fft.fft2(in_img)              #This is the complex visibility from a complete and ideal array from u,v =0,0 outward.\n",
    "observed=fft_img*obs_uv_matrix           #Observed complex visibility. Combines ideal visibility with the observed uv points, removing those not seen by the selected array configuration.\n",
    "ifft_img=np.fft.ifft2(observed)          #inverse FFTs the observed visibility\n",
    "real_ifft_img=ifft_img.real              #Takes real part only for plotting\n",
    "\n",
    "fig_obs = plt.figure(4, figsize=[(2.68*(WIDTH_ANT/600.0)),(2.68*(WIDTH_ANT/600.0))]) #Horrific aspect ratio hack... sorry!\n",
    "fig_obs.clear()\n",
    "fig_obs.subplots_adjust(left=0, right=1, top=1, bottom=0)\n",
    "ax_obs=fig_obs.add_subplot(111)\n",
    "if synthesis_type == 0 or synthesis_type ==1:\n",
    "    ax_obs.imshow(real_ifft_img, cmap=col_map)                #Show observed version of input image.\n",
    "    ax_obs.get_xaxis().set_visible(False)\n",
    "    ax_obs.get_yaxis().set_visible(False)\n",
    "    #plt.gca().invert_yaxis()\n",
    "    fig_obs.savefig('output.png', dpi=150, facecolor='w', edgecolor='w',\n",
    "                orientation='portrait', papertype=None, format=None,\n",
    "                transparent=False, bbox_inches=None, pad_inches=None)"
   ]
  },
  {
   "cell_type": "code",
   "execution_count": null,
   "metadata": {
    "collapsed": true
   },
   "outputs": [],
   "source": []
  },
  {
   "cell_type": "code",
   "execution_count": null,
   "metadata": {
    "collapsed": true
   },
   "outputs": [],
   "source": []
  },
  {
   "cell_type": "code",
   "execution_count": null,
   "metadata": {
    "collapsed": true
   },
   "outputs": [],
   "source": [
    "def synthType(sType,orig_x,orig_y,add_min):\n",
    "    global synthesis_type, BALLS\n",
    "    if sType == 'Earth' or sType == 'Snap':\n",
    "        if BALLS==1:\n",
    "            BALLS=2\n",
    "            add_min=1\n",
    "            build_balls()\n",
    "\n",
    "    if sType == 'Snap':\n",
    "        synthesis_type=0\n",
    "    if sType == 'Earth':\n",
    "        synthesis_type=1\n",
    "    if sType == 'Single':\n",
    "        synthesis_type=2\n",
    "        BALLS=1\n",
    "        add_min=1\n",
    "        build_balls()\n",
    "\n",
    "    balltext = str(BALLS) + \" ant.\"\n",
    "    \n",
    "    updateStatus(4)"
   ]
  },
  {
   "cell_type": "code",
   "execution_count": null,
   "metadata": {
    "collapsed": true
   },
   "outputs": [],
   "source": [
    "global filenamein, col_map, x_pos, y_pos,  statusmsg\n",
    "\n",
    "'''Calculates the uv data and simulated images!'''\n",
    "in_img=mpimg.imread(filenamein) #gif_image\n",
    "in_img=in_img[:,:,1] #select a single colour plane from a RBG image\n",
    "img_siz=in_img.shape #input image dimensions\n",
    "\n",
    "statusmsg = \"Calc. UV\"\n",
    "updateStatus(3)\n",
    "\n",
    "pix_to_uv=150.0*(2.68*(WIDTH_ANT/600.0))\n",
    "\n",
    "umax=1.5*(((HEIGHT_ANT-(2.0*1.5*BALL_RADIUS))*pix_to_m*10.0)/wavel)#maximum for earth rot at HA 60\n",
    "vmax=1.5*((1.0*(WIDTH_ANT-(2.0*1.5*BALL_RADIUS))*pix_to_m*10.0*sin_dec)/wavel)\n",
    "\n",
    "if synthesis_type == 0 or synthesis_type ==1:    \n",
    "    x=np.array(x_pos)\n",
    "    y=np.array(y_pos)\n",
    "\n",
    "    x=x*zoom_factor*pix_to_m\n",
    "    y=y*zoom_factor*pix_to_m\n",
    "\n",
    "    N=len(x)*(len(x)-1)                     #number of baselines\n",
    "\n",
    "    lx=np.zeros((len(x),len(x)))\n",
    "    ly=np.zeros((len(y),len(x)))\n",
    "\n",
    "    for i in range(len(x)):\n",
    "        for j in range(len(y)):\n",
    "            lx[i,j]=(x[i]-x[j])\n",
    "            ly[i,j]=(y[i]-y[j])\n",
    "\n",
    "if synthesis_type == 0:                          #snapshot mode\n",
    "    u=(np.ceil(ly/wavel))                    # u values\n",
    "    typeused = \"Snapshot        \"            #long white space to overlay correctly\n",
    "    v=(np.ceil((-1.*lx*sin_dec)/wavel))      # v values\n",
    "\n",
    "    re_u=np.reshape(u,(len(x)**2),order='F') #reshape u into linear form\n",
    "    re_v=np.reshape(v,(len(y)**2),order='F') #reshape v into linear form\n",
    "\n",
    "    full_re_u=re_u\n",
    "    full_re_v=re_v\n",
    "\n",
    "    #--- rescale to image scale\n",
    "    full_re_uimg=(re_u/umax)*pix_to_uv\n",
    "    full_re_vimg=(re_v/vmax)*pix_to_uv\n",
    "\n",
    "    obs_uv_matrix=np.zeros(img_siz)          #create an empty matrix same size as in image for multiplying with fft of true sky image\n",
    "\n",
    "    for k in range(len(full_re_u)): \n",
    "        int_u=int(full_re_uimg[k])\n",
    "        int_v=int(full_re_vimg[k])\n",
    "        obs_uv_matrix[int_u,int_v]=1.0\n",
    "\n",
    "elif synthesis_type == 1:                         #Earth Rotation mode\n",
    "\n",
    "    ha_range=[0.,20.,40.,60.,80.,100.,120.,140.,160.,180.]\n",
    "    typeused = \"Earth Rotation\"\n",
    "    u=0\n",
    "    v=0\n",
    "    full_re_u=0\n",
    "    full_re_v=0\n",
    "\n",
    "    for ha in ha_range:\n",
    "\n",
    "        sin_ha=np.sin((ha * np.pi)/ 180.)\n",
    "        cos_ha=np.cos((ha * np.pi)/ 180.)\n",
    "        u=(np.ceil((((lx*sin_ha)+(ly*cos_ha))/wavel)))                    # u values including ha\n",
    "        v=(np.ceil(((-1.*lx*sin_dec*cos_ha)+(ly*sin_dec*sin_ha))/wavel)) # v values\n",
    "\n",
    "        re_u=np.reshape(u,(len(x)**2),order='F') #reshape u into linear form\n",
    "        re_v=np.reshape(v,(len(y)**2),order='F') #reshape v into linear form\n",
    "        full_re_u=np.append(full_re_u,re_u)\n",
    "        full_re_v=np.append(full_re_v,re_v)\n",
    "        #--- rescale to image scale\n",
    "    full_re_uimg=(full_re_u/umax)*pix_to_uv\n",
    "    full_re_vimg=(full_re_v/vmax)*pix_to_uv\n",
    "\n",
    "\n",
    "    obs_uv_matrix=np.zeros(img_siz) #create an empty matrix same size as in image for multiplying with fft of true sky image\n",
    "\n",
    "    for k in range(len(full_re_uimg)):\n",
    "        int_u=int(full_re_uimg[k])\n",
    "        int_v=int(full_re_vimg[k])\n",
    "        obs_uv_matrix[int_u,int_v]=1.0\n",
    "\n",
    "elif synthesis_type == 2:                     #Single Dish\n",
    "    size_gauss=1.22*(wavel/12.)\n",
    "    gaussian=gauss_kern(img_siz[0]/2,img_siz[1]/2)\n",
    "    typeused = \"Single Ant.    \" #long white space to overlay corre\n",
    "    obs_uv_matrix=np.zeros(img_siz)\n",
    "    singledish=signal.fftconvolve(in_img,gaussian, mode='same')\n",
    "\n",
    "    full_re_u=np.arange((-12.0/wavel),(12.0/wavel),0.1)\n",
    "    full_re_v=np.arange((-12.0/wavel),(12.0/wavel),0.1)\n",
    "\n",
    "obs_uv_matrix[0,0]=0.0                   #fixes uv 0,0 to 0\n",
    "\n",
    "fig_uv = plt.figure(8,figsize=[(2.68*((HEIGHT_ANT*(2./3.))/570)),(2.68*((WIDTH_ANT*(2./3.))/570))]) #Horrific aspect ratio hack... sorry!\n",
    "fig_uv.clear()\n",
    "ax_uv = fig_uv.add_subplot(111)\n",
    "if synthesis_type == 0 or synthesis_type == 1:\n",
    "    ax_uv.plot(full_re_u/1000.0,full_re_v/1000.0,'.',color='orange')#plot uv coverage\n",
    "    #ax_uv.plot(0,0,'w.',mec='w')\n",
    "elif synthesis_type == 2:\n",
    "    circ=pyl.Circle((0,0),radius=1.2,color='orange')\n",
    "    ax_uv.add_patch(circ)\n",
    "    ax_uv.set_xlim(-100.0,100.0)\n",
    "    ax_uv.set_ylim(-100.0,100.0)\n",
    "ax_uv.tick_params(axis='both',labelsize='4')\n",
    "ax_uv.set_xlabel('u [k$\\lambda$]',size='5')\n",
    "ax_uv.set_ylabel('v [k$\\lambda$]',size='5')\n",
    "fig_uv.savefig('imgs/uvplot.png', dpi=150, facecolor='w', edgecolor='w',\n",
    "    orientation='portrait', papertype=None, format=None,\n",
    "    transparent=False,bbox_inches='tight',pad_inches=0.05)\n",
    "\n",
    "#---3 Do the maths ---#\n",
    "#--Section 7 chapter 2 Synthesis imaging--#\n",
    "fft_img=np.fft.fft2(in_img)              #This is the complex visibility from a complete and ideal array from u,v =0,0 outward.\n",
    "observed=fft_img*obs_uv_matrix           #Observed complex visibility. Combines ideal visibility with the observed uv points, removing those not seen by the selected array configuration.\n",
    "ifft_img=np.fft.ifft2(observed)          #inverse FFTs the observed visibility\n",
    "real_ifft_img=ifft_img.real              #Takes real part only for plotting\n",
    "\n",
    "fig_obs = plt.figure(4, figsize=[(2.68*(WIDTH_ANT/600.0)),(2.68*(WIDTH_ANT/600.0))]) #Horrific aspect ratio hack... sorry!\n",
    "fig_obs.clear()\n",
    "fig_obs.subplots_adjust(left=0, right=1, top=1, bottom=0)\n",
    "ax_obs=fig_obs.add_subplot(111)\n",
    "if synthesis_type == 0 or synthesis_type ==1:\n",
    "    ax_obs.imshow(real_ifft_img, cmap=col_map)                #Show observed version of input image.\n",
    "    ax_obs.get_xaxis().set_visible(False)\n",
    "    ax_obs.get_yaxis().set_visible(False)\n",
    "    #plt.gca().invert_yaxis()\n",
    "    fig_obs.savefig('imgs/output.png', dpi=150, facecolor='w', edgecolor='w',\n",
    "                orientation='portrait', papertype=None, format=None,\n",
    "                transparent=False, bbox_inches=None, pad_inches=None)\n",
    "    statusmsg = \"Done: \" + str(typeused)\n",
    "    updateStatus(3)\n",
    "elif synthesis_type == 2:\n",
    "    ax_obs.imshow(singledish, cmap=col_map)                #Show observed version of input image.\n",
    "    ax_obs.get_xaxis().set_visible(False)\n",
    "    ax_obs.get_yaxis().set_visible(False)\n",
    "    #plt.gca().invert_yaxis()\n",
    "    fig_obs.savefig('imgs/output.png', dpi=150, facecolor='w', edgecolor='w',\n",
    "                orientation='portrait', papertype=None, format=None,\n",
    "                transparent=False, bbox_inches=None, pad_inches=None)\n",
    "    statusmsg = \"Done: \" + str(typeused)\n",
    "    updateStatus(3)"
   ]
  },
  {
   "cell_type": "code",
   "execution_count": null,
   "metadata": {
    "collapsed": true
   },
   "outputs": [],
   "source": []
  },
  {
   "cell_type": "code",
   "execution_count": null,
   "metadata": {
    "collapsed": true
   },
   "outputs": [],
   "source": []
  },
  {
   "cell_type": "code",
   "execution_count": null,
   "metadata": {
    "collapsed": true
   },
   "outputs": [],
   "source": []
  },
  {
   "cell_type": "code",
   "execution_count": null,
   "metadata": {
    "collapsed": true
   },
   "outputs": [],
   "source": []
  }
 ],
 "metadata": {
  "kernelspec": {
   "display_name": "Python 2",
   "language": "python",
   "name": "python2"
  },
  "language_info": {
   "codemirror_mode": {
    "name": "ipython",
    "version": 2
   },
   "file_extension": ".py",
   "mimetype": "text/x-python",
   "name": "python",
   "nbconvert_exporter": "python",
   "pygments_lexer": "ipython2",
   "version": "2.7.6"
  }
 },
 "nbformat": 4,
 "nbformat_minor": 0
}
