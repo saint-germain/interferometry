{
 "cells": [
  {
   "cell_type": "markdown",
   "metadata": {},
   "source": [
    "## Snapshot Radio Interferometer Simulator\n",
    "\n",
    "Loosely adapted from pynterferometer http://www.jb.man.ac.uk/pynterferometer/download.html\n",
    "\n",
    "- Interferometer simulator for aperture synthesis of an image centered in the zenith using a monochromatic radio telescope array in a non-rotating frame (snapshot)\n",
    "- Free parameters:\n",
    "    - Frequency \n",
    "    - Number of antennae (between 2 and 50)\n",
    "    - Resolution in px\n",
    "- Image should be square\n",
    "\n",
    "*Sample output*:\n",
    "\n",
    "<img src=\"demo.png\">"
   ]
  },
  {
   "cell_type": "code",
   "execution_count": 1,
   "metadata": {
    "collapsed": true
   },
   "outputs": [],
   "source": [
    "# This is an executable cell. Click anywhere within the grey area (code text) and press Shift+Enter to run.\n",
    "import matplotlib.pyplot as plt\n",
    "import ipywidgets as widgets\n",
    "from intsim import intsim\n",
    "%matplotlib inline"
   ]
  },
  {
   "cell_type": "code",
   "execution_count": 2,
   "metadata": {
    "collapsed": true
   },
   "outputs": [],
   "source": [
    "# This is an executable cell. Click anywhere within the grey area (code text) and press Shift+Enter to run.\n",
    "def view_image(ant,myres,EW=False,PointSource=False):\n",
    "    intsim(ant,freq=1e9,myres=myres,EW=EW,PointSource=PointSource,filein=\"m87ims.png\")\n",
    "#plt.show()"
   ]
  },
  {
   "cell_type": "code",
   "execution_count": 4,
   "metadata": {},
   "outputs": [
    {
     "data": {
      "application/vnd.jupyter.widget-view+json": {
       "model_id": "5c94f400d1d344fa956efc02abdedb6a",
       "version_major": 2,
       "version_minor": 0
      },
      "text/plain": [
       "interactive(children=(IntSlider(value=20, description='ant', max=50, min=20), IntSlider(value=10, description=…"
      ]
     },
     "metadata": {},
     "output_type": "display_data"
    }
   ],
   "source": [
    "# This is an executable cell. Click anywhere within the grey area (code text) and press Shift+Enter to run.\n",
    "# ant=26, myres=41\n",
    "widgets.interact_manual(view_image,ant=widgets.IntSlider(min=20, max=50, step=1),myres=widgets.IntSlider(min=10,max=100,step=1));"
   ]
  },
  {
   "cell_type": "code",
   "execution_count": 4,
   "metadata": {},
   "outputs": [
    {
     "data": {
      "application/vnd.jupyter.widget-view+json": {
       "model_id": "cbded1aaa32b467993531f90f578ff62",
       "version_major": 2,
       "version_minor": 0
      },
      "text/plain": [
       "interactive(children=(IntSlider(value=2, description='ant', max=50, min=2), IntSlider(value=1, description='my…"
      ]
     },
     "metadata": {},
     "output_type": "display_data"
    }
   ],
   "source": [
    "# This is an executable cell. Click anywhere within the grey area (code text) and press Shift+Enter to run.\n",
    "widgets.interact_manual(view_image,ant=widgets.IntSlider(min=2, max=50, step=1),myres=widgets.IntSlider(min=1,max=100,step=1));"
   ]
  },
  {
   "cell_type": "code",
   "execution_count": null,
   "metadata": {
    "collapsed": true
   },
   "outputs": [],
   "source": []
  },
  {
   "cell_type": "code",
   "execution_count": null,
   "metadata": {
    "collapsed": true
   },
   "outputs": [],
   "source": []
  },
  {
   "cell_type": "code",
   "execution_count": null,
   "metadata": {
    "collapsed": true
   },
   "outputs": [],
   "source": []
  },
  {
   "cell_type": "code",
   "execution_count": null,
   "metadata": {
    "collapsed": true
   },
   "outputs": [],
   "source": []
  },
  {
   "cell_type": "code",
   "execution_count": null,
   "metadata": {
    "collapsed": true
   },
   "outputs": [],
   "source": []
  },
  {
   "cell_type": "code",
   "execution_count": null,
   "metadata": {
    "collapsed": true
   },
   "outputs": [],
   "source": []
  },
  {
   "cell_type": "code",
   "execution_count": null,
   "metadata": {
    "collapsed": true
   },
   "outputs": [],
   "source": []
  },
  {
   "cell_type": "code",
   "execution_count": null,
   "metadata": {
    "collapsed": true
   },
   "outputs": [],
   "source": []
  },
  {
   "cell_type": "code",
   "execution_count": null,
   "metadata": {
    "collapsed": true
   },
   "outputs": [],
   "source": []
  },
  {
   "cell_type": "code",
   "execution_count": null,
   "metadata": {
    "collapsed": true
   },
   "outputs": [],
   "source": []
  }
 ],
 "metadata": {
  "kernelspec": {
   "display_name": "Python 3",
   "language": "python",
   "name": "python3"
  },
  "language_info": {
   "codemirror_mode": {
    "name": "ipython",
    "version": 3
   },
   "file_extension": ".py",
   "mimetype": "text/x-python",
   "name": "python",
   "nbconvert_exporter": "python",
   "pygments_lexer": "ipython3",
   "version": "3.5.6"
  }
 },
 "nbformat": 4,
 "nbformat_minor": 2
}
