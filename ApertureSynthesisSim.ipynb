{
 "cells": [
  {
   "cell_type": "markdown",
   "metadata": {},
   "source": [
    "## Snapshot Radio Interferometer Simulator\n",
    "\n",
    "Loosely adapted from pynterferometer http://www.jb.man.ac.uk/pynterferometer/download.html\n",
    "\n",
    "- Interferometer simulator for aperture synthesis of an image centered in the zenith using a monochromatic radio telescope array in a non-rotating frame (snapshot)\n",
    "- Free parameters:\n",
    "    - Frequency \n",
    "    - Number of antennae (between 2 and 50)\n",
    "    - Resolution in px\n",
    "- Image should be square"
   ]
  },
  {
   "cell_type": "code",
   "execution_count": null,
   "metadata": {
    "collapsed": true
   },
   "outputs": [],
   "source": [
    "# This is an executable cell. Click anywhere within the grey area (code text) and press Shift+Enter to run.\n",
    "import matplotlib.pyplot as plt\n",
    "import ipywidgets as widgets\n",
    "from intsim import intsim\n",
    "%matplotlib inline"
   ]
  },
  {
   "cell_type": "code",
   "execution_count": null,
   "metadata": {
    "collapsed": true
   },
   "outputs": [],
   "source": [
    "# This is an executable cell. Click anywhere within the grey area (code text) and press Shift+Enter to run.\n",
    "def view_image(ant,myres,PointSource=True):\n",
    "    intsim(ant,freq=1e9,myres=myres,PointSource=PointSource)\n",
    "    plt.show()"
   ]
  },
  {
   "cell_type": "code",
   "execution_count": null,
   "metadata": {},
   "outputs": [],
   "source": [
    "# This is an executable cell. Click anywhere within the grey area (code text) and press Shift+Enter to run.\n",
    "widgets.interact_manual(view_image,ant=widgets.IntSlider(min=2, max=50, step=1),myres=widgets.IntSlider(min=1,max=100,step=1));"
   ]
  },
  {
   "cell_type": "code",
   "execution_count": null,
   "metadata": {},
   "outputs": [],
   "source": [
    "# This is an executable cell. Click anywhere within the grey area (code text) and press Shift+Enter to run.\n",
    "widgets.interact_manual(view_image,ant=widgets.IntSlider(min=2, max=50, step=1),myres=widgets.IntSlider(min=1,max=50,step=1));"
   ]
  },
  {
   "cell_type": "code",
   "execution_count": null,
   "metadata": {
    "collapsed": true
   },
   "outputs": [],
   "source": []
  },
  {
   "cell_type": "code",
   "execution_count": null,
   "metadata": {
    "collapsed": true
   },
   "outputs": [],
   "source": []
  },
  {
   "cell_type": "code",
   "execution_count": null,
   "metadata": {
    "collapsed": true
   },
   "outputs": [],
   "source": []
  },
  {
   "cell_type": "code",
   "execution_count": null,
   "metadata": {
    "collapsed": true
   },
   "outputs": [],
   "source": []
  },
  {
   "cell_type": "code",
   "execution_count": null,
   "metadata": {
    "collapsed": true
   },
   "outputs": [],
   "source": []
  },
  {
   "cell_type": "code",
   "execution_count": null,
   "metadata": {
    "collapsed": true
   },
   "outputs": [],
   "source": []
  },
  {
   "cell_type": "code",
   "execution_count": null,
   "metadata": {
    "collapsed": true
   },
   "outputs": [],
   "source": []
  },
  {
   "cell_type": "code",
   "execution_count": null,
   "metadata": {
    "collapsed": true
   },
   "outputs": [],
   "source": []
  },
  {
   "cell_type": "code",
   "execution_count": null,
   "metadata": {
    "collapsed": true
   },
   "outputs": [],
   "source": []
  },
  {
   "cell_type": "code",
   "execution_count": null,
   "metadata": {
    "collapsed": true
   },
   "outputs": [],
   "source": []
  }
 ],
 "metadata": {
  "kernelspec": {
   "display_name": "Python 3",
   "language": "python",
   "name": "python3"
  },
  "language_info": {
   "codemirror_mode": {
    "name": "ipython",
    "version": 3
   },
   "file_extension": ".py",
   "mimetype": "text/x-python",
   "name": "python",
   "nbconvert_exporter": "python",
   "pygments_lexer": "ipython3",
   "version": "3.5.3"
  }
 },
 "nbformat": 4,
 "nbformat_minor": 2
}
